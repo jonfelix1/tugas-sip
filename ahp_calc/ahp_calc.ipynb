{
 "cells": [
  {
   "cell_type": "code",
   "execution_count": 1,
   "metadata": {},
   "outputs": [],
   "source": [
    "import pandas as pd\n",
    "import numpy as np\n",
    "from scipy.linalg import eig\n",
    "\n",
    "def calculate_ahp_weights(data, ppt_criteria, criteria_pairs, response_scale):\n",
    "    \"\"\"\n",
    "    Calculate AHP weights using a pairwise comparison matrix.\n",
    "\n",
    "    Parameters:\n",
    "        data (pd.DataFrame): The survey data containing responses.\n",
    "        ppt_criteria (list): List of criteria, e.g., [\"People\", \"Process\", \"Technology\"].\n",
    "        criteria_pairs (list): List of string pair comparisons, e.g., [\"3. A: People. B: Process\"].\n",
    "        response_scale (dict): Mapping of response text to numeric scale for AHP.\n",
    "\n",
    "    Returns:\n",
    "        tuple: The pairwise comparison matrix and the priority vector (weights).\n",
    "    \"\"\"\n",
    "    n_criteria = len(ppt_criteria)  # Number of criteria\n",
    "    matrix = np.ones((n_criteria, n_criteria))  # Initialize matrix with 1s\n",
    "\n",
    "    # Fill the matrix using the criteria_pairs and response_scale\n",
    "    for i, pair in enumerate(criteria_pairs):\n",
    "        response = data.iloc[0].get(pair, None)  # Retrieve response for the pair\n",
    "        if response is not None:\n",
    "            value = response_scale.get(response, 1)  # Use response scale or default to 1\n",
    "            # Determine matrix indices based on pair index\n",
    "            if i == 0:\n",
    "                matrix[0, 1] = value\n",
    "                matrix[1, 0] = 1 / value\n",
    "            elif i == 1:\n",
    "                matrix[0, 2] = value\n",
    "                matrix[2, 0] = 1 / value\n",
    "            elif i == 2:\n",
    "                matrix[1, 2] = value\n",
    "                matrix[2, 1] = 1 / value\n",
    "\n",
    "    # Compute eigenvector-based priority weights\n",
    "    eigenvalues, eigenvectors = eig(matrix)\n",
    "    max_index = np.argmax(eigenvalues)  # Find index of the largest eigenvalue\n",
    "    priority_vector = np.real(eigenvectors[:, max_index]).astype(float)\n",
    "    priority_vector /= priority_vector.sum()  # Normalize priority vector\n",
    "\n",
    "    return matrix, priority_vector\n"
   ]
  },
  {
   "cell_type": "markdown",
   "metadata": {},
   "source": [
    "## Define response scale and data"
   ]
  },
  {
   "cell_type": "code",
   "execution_count": 2,
   "metadata": {},
   "outputs": [],
   "source": [
    "# Define the survey response scale\n",
    "response_scale = {\n",
    "    \"A mutlak lebih penting dibandingkan B\": 9,\n",
    "    \"A sangat lebih penting dibandingkan B\": 7,\n",
    "    \"A cukup lebih penting dibandingkan B\": 5,\n",
    "    \"A sedikit lebih penting dibandingkan B\": 3,\n",
    "    \"Sama pentingnya\": 1,\n",
    "    \"B sedikit lebih penting dibandingkan A\": 1/3,\n",
    "    \"B cukup lebih penting dibandingkan A\": 1/5,\n",
    "    \"B sangat lebih penting dibandingkan A\": 1/7,\n",
    "    \"B mutlak lebih penting dibandingkan A\": 1/9\n",
    "}\n",
    "\n",
    "# Load your survey data from CSV\n",
    "data = pd.read_csv(\"~/Downloads/export-core_banking_system_csf_survey-2024-11-18-07-48-33.csv\")\n"
   ]
  },
  {
   "cell_type": "markdown",
   "metadata": {},
   "source": [
    "## PPT Priority Vector Matrix"
   ]
  },
  {
   "cell_type": "code",
   "execution_count": 3,
   "metadata": {},
   "outputs": [
    {
     "name": "stdout",
     "output_type": "stream",
     "text": [
      "Pairwise Comparison Matrix:\n",
      " [[1.         7.         5.        ]\n",
      " [0.14285714 1.         3.        ]\n",
      " [0.2        0.33333333 1.        ]]\n",
      "\n",
      "Priority Vector (AHP Weights):\n",
      "People: 0.7383\n",
      "Process: 0.1702\n",
      "Technology: 0.0915\n"
     ]
    }
   ],
   "source": [
    "# Define criteria and criteria pairs\n",
    "ppt_criteria = [\"People\", \"Process\", \"Technology\"]\n",
    "ppt_criteria_pairs = [\n",
    "    \"3. A: People. B: Process\",\n",
    "    \"4. A: People. B: Technology\",\n",
    "    \"5. A: Process. B: Technology\"\n",
    "]\n",
    "\n",
    "# Call the function\n",
    "ppt_matrix, ppt_priority_vector = calculate_ahp_weights(data, ppt_criteria, ppt_criteria_pairs, response_scale)\n",
    "\n",
    "print(\"Pairwise Comparison Matrix:\\n\", ppt_matrix)\n",
    "print()\n",
    "print(\"Priority Vector (AHP Weights):\")\n",
    "for criterion, weight in zip(ppt_criteria, ppt_priority_vector):\n",
    "    print(f\"{criterion}: {weight:.4f}\")\n"
   ]
  },
  {
   "cell_type": "markdown",
   "metadata": {},
   "source": [
    "## People Priority Vector"
   ]
  },
  {
   "cell_type": "code",
   "execution_count": 4,
   "metadata": {},
   "outputs": [
    {
     "name": "stdout",
     "output_type": "stream",
     "text": [
      "Pairwise Comparison Matrix:\n",
      " [[1.  5.  5.  1. ]\n",
      " [0.2 1.  1.  1. ]\n",
      " [0.2 1.  1.  1. ]\n",
      " [1.  1.  1.  1. ]]\n",
      "\n",
      "Priority Vector (AHP Weights):\n",
      "Dukungan manajemen senior: 0.4890\n",
      "Alokasi sumber daya: 0.1403\n",
      "Kompatibilitas Teknologi: 0.1403\n",
      "Perubahan manajemen dan Adaptasi User: 0.2304\n"
     ]
    }
   ],
   "source": [
    "people_criteria = [\n",
    "    \"Dukungan manajemen senior\",\n",
    "    \"Alokasi sumber daya\",\n",
    "    \"Kompatibilitas Teknologi\",\n",
    "    \"Perubahan manajemen dan Adaptasi User\"\n",
    "]\n",
    "\n",
    "people_criteria_pairs = [\n",
    "    f\"7. A: {people_criteria[0]}. B: {people_criteria[1]}\",\n",
    "    f\"8. A: {people_criteria[0]}. B: {people_criteria[2]}\",\n",
    "    f\"9. A: {people_criteria[0]}. B: {people_criteria[3]}\",\n",
    "    f\"10. A: {people_criteria[1]}. B: {people_criteria[2]}\",\n",
    "    f\"11. A: {people_criteria[1]}. B: {people_criteria[3]}\",\n",
    "    f\"12. A: {people_criteria[2]}. B: {people_criteria[3]}\"\n",
    "]\n",
    "\n",
    "# Call the function\n",
    "people_matrix, people_priority_vector = calculate_ahp_weights(data, people_criteria, people_criteria_pairs, response_scale)\n",
    "\n",
    "print(\"Pairwise Comparison Matrix:\\n\", people_matrix)\n",
    "print()\n",
    "print(\"Priority Vector (AHP Weights):\")\n",
    "for criterion, weight in zip(people_criteria, people_priority_vector):\n",
    "    print(f\"{criterion}: {weight:.4f}\")"
   ]
  },
  {
   "cell_type": "markdown",
   "metadata": {},
   "source": [
    "## Process Priority Vector"
   ]
  },
  {
   "cell_type": "code",
   "execution_count": 5,
   "metadata": {},
   "outputs": [
    {
     "name": "stdout",
     "output_type": "stream",
     "text": [
      "Process Pairwise Comparison Matrix:\n",
      " [[1. 1. 1. 1.]\n",
      " [1. 1. 1. 1.]\n",
      " [1. 1. 1. 1.]\n",
      " [1. 1. 1. 1.]]\n",
      "Process Priority Vector (AHP Weights):\n",
      "Rekayasa ulang proses bisnis: 0.2500\n",
      "Kebutuhan sistem yang jelas: 0.2500\n",
      "Standar operasional yang jelas: 0.2500\n",
      "Mitigasi dan manajemen risiko: 0.2500\n"
     ]
    }
   ],
   "source": [
    "# Define process-related criteria\n",
    "process_criteria = [\n",
    "    \"Rekayasa ulang proses bisnis\",\n",
    "    \"Kebutuhan sistem yang jelas\",\n",
    "    \"Standar operasional yang jelas\",\n",
    "    \"Mitigasi dan manajemen risiko\"\n",
    "]\n",
    "\n",
    "# Define process-related criteria pairs\n",
    "process_criteria_pairs = [\n",
    "    f\"14. A: {process_criteria[0]}. B: {process_criteria[1]}\",\n",
    "    f\"15. A: {process_criteria[0]}. B: {process_criteria[2]}\",\n",
    "    f\"16. A: {process_criteria[0]}. B: {process_criteria[3]}\",\n",
    "    f\"17. A: {process_criteria[1]}. B: {process_criteria[2]}\",\n",
    "    f\"18. A: {process_criteria[1]}. B: {process_criteria[3]}\",\n",
    "    f\"19. A: {process_criteria[2]}. B: {process_criteria[3]}\"\n",
    "]\n",
    "\n",
    "# Call the function\n",
    "process_matrix, process_priority_vector = calculate_ahp_weights(\n",
    "    data, process_criteria, process_criteria_pairs, response_scale\n",
    ")\n",
    "\n",
    "# Print Pairwise Comparison Matrix\n",
    "print(\"Process Pairwise Comparison Matrix:\\n\", process_matrix)\n",
    "\n",
    "# Print Priority Vector with process-related criteria names\n",
    "print(\"Process Priority Vector (AHP Weights):\")\n",
    "for criterion, weight in zip(process_criteria, process_priority_vector):\n",
    "    print(f\"{criterion}: {weight:.4f}\")\n"
   ]
  },
  {
   "cell_type": "markdown",
   "metadata": {},
   "source": [
    "## Technology Priority Matrix"
   ]
  },
  {
   "cell_type": "code",
   "execution_count": 6,
   "metadata": {},
   "outputs": [
    {
     "name": "stdout",
     "output_type": "stream",
     "text": [
      "Technology Pairwise Comparison Matrix:\n",
      " [[1. 1. 1. 1.]\n",
      " [1. 1. 1. 1.]\n",
      " [1. 1. 1. 1.]\n",
      " [1. 1. 1. 1.]]\n",
      "Technology Priority Vector (AHP Weights):\n",
      "Keamanan yang kuat: 0.2500\n",
      "Skalabilitas infrastruktur IT: 0.2500\n",
      "Integrasi Sistem: 0.2500\n",
      "Performa dan kecepatan sistem: 0.2500\n"
     ]
    }
   ],
   "source": [
    "# Define technology-related criteria\n",
    "technology_criteria = [\n",
    "    \"Keamanan yang kuat\",\n",
    "    \"Skalabilitas infrastruktur IT\",\n",
    "    \"Integrasi Sistem\",\n",
    "    \"Performa dan kecepatan sistem\"\n",
    "]\n",
    "\n",
    "# Define technology-related criteria pairs\n",
    "technology_criteria_pairs = [\n",
    "    f\"21. A: {technology_criteria[0]}. B: {technology_criteria[1]}\",\n",
    "    f\"22. A: {technology_criteria[0]}. B: {technology_criteria[2]}\",\n",
    "    f\"23. A: {technology_criteria[0]}. B: {technology_criteria[3]}\",\n",
    "    f\"24. A: {technology_criteria[1]}. B: {technology_criteria[2]}\",\n",
    "    f\"25. A: {technology_criteria[1]}. B: {technology_criteria[3]}\",\n",
    "    f\"26. A: {technology_criteria[2]}. B: {technology_criteria[3]}\"\n",
    "]\n",
    "\n",
    "# Call the function\n",
    "technology_matrix, technology_priority_vector = calculate_ahp_weights(\n",
    "    data, technology_criteria, technology_criteria_pairs, response_scale\n",
    ")\n",
    "\n",
    "# Print Pairwise Comparison Matrix\n",
    "print(\"Technology Pairwise Comparison Matrix:\\n\", technology_matrix)\n",
    "\n",
    "# Print Priority Vector with technology-related criteria names\n",
    "print(\"Technology Priority Vector (AHP Weights):\")\n",
    "for criterion, weight in zip(technology_criteria, technology_priority_vector):\n",
    "    print(f\"{criterion}: {weight:.4f}\")\n"
   ]
  },
  {
   "cell_type": "code",
   "execution_count": 7,
   "metadata": {},
   "outputs": [
    {
     "name": "stdout",
     "output_type": "stream",
     "text": [
      "PPT Consistency Index (CI): 0.1166\n",
      "People Consistency Index (CI): 0.1133\n",
      "Process Consistency Index (CI): -0.0000\n",
      "Technology Consistency Index (CI): -0.0000\n"
     ]
    }
   ],
   "source": [
    "def calculate_ci(matrix):\n",
    "    \"\"\"\n",
    "    Calculate the Consistency Index (CI) for a given pairwise comparison matrix.\n",
    "\n",
    "    Parameters:\n",
    "        matrix (numpy.ndarray): Pairwise comparison matrix.\n",
    "\n",
    "    Returns:\n",
    "        float: The Consistency Index (CI).\n",
    "    \"\"\"\n",
    "    eigenvalues, _ = eig(matrix)\n",
    "    lambda_max = np.real(eigenvalues).max()  # Largest eigenvalue (real part)\n",
    "    n = matrix.shape[0]  # Number of criteria (size of the matrix)\n",
    "    ci = (lambda_max - n) / (n - 1) if n > 1 else 0  # Avoid division by zero\n",
    "    return ci\n",
    "\n",
    "# Calculate CI for criteria\n",
    "technology_ci = calculate_ci(ppt_matrix)\n",
    "print(f\"PPT Consistency Index (CI): {technology_ci:.4f}\")\n",
    "\n",
    "# Calculate CI for people-related criteria\n",
    "process_ci = calculate_ci(people_matrix)\n",
    "print(f\"People Consistency Index (CI): {process_ci:.4f}\")\n",
    "\n",
    "# Calculate CI for process-related criteria\n",
    "process_ci = calculate_ci(process_matrix)\n",
    "print(f\"Process Consistency Index (CI): {process_ci:.4f}\")\n",
    "\n",
    "# Calculate CI for technology-related criteria\n",
    "technology_ci = calculate_ci(technology_matrix)\n",
    "print(f\"Technology Consistency Index (CI): {technology_ci:.4f}\")\n"
   ]
  },
  {
   "cell_type": "code",
   "execution_count": 8,
   "metadata": {},
   "outputs": [
    {
     "name": "stdout",
     "output_type": "stream",
     "text": [
      "PPT CI: 0.1166, CR: 0.2011\n",
      "People CI: 0.1133, CR: 0.1259\n",
      "Process CI: -0.0000, CR: -0.0000\n",
      "Technology CI: -0.0000, CR: -0.0000\n"
     ]
    }
   ],
   "source": [
    "def calculate_ci_and_cr(matrix, ri_table):\n",
    "    \"\"\"\n",
    "    Calculate the Consistency Index (CI) and Consistency Ratio (CR) for a given pairwise comparison matrix.\n",
    "\n",
    "    Parameters:\n",
    "        matrix (numpy.ndarray): Pairwise comparison matrix.\n",
    "        ri_table (dict): Random Index table.\n",
    "\n",
    "    Returns:\n",
    "        tuple: (CI, CR)\n",
    "    \"\"\"\n",
    "    eigenvalues, _ = eig(matrix)\n",
    "    lambda_max = np.real(eigenvalues).max()  # Largest eigenvalue\n",
    "    n = matrix.shape[0]  # Matrix size\n",
    "    ci = (lambda_max - n) / (n - 1) if n > 1 else 0  # Consistency Index\n",
    "    ri = ri_table.get(n, 0)  # Random Index based on matrix size\n",
    "    cr = ci / ri if ri > 0 else 0  # Consistency Ratio\n",
    "    return ci, cr\n",
    "\n",
    "# Random Index table\n",
    "ri_table = {\n",
    "    1: 0.00, 2: 0.00, 3: 0.58, 4: 0.90, 5: 1.12,\n",
    "    6: 1.24, 7: 1.32, 8: 1.41, 9: 1.45, 10: 1.49\n",
    "}\n",
    "\n",
    "# Calculate CI and CR for each criteria group\n",
    "ppt_ci, ppt_cr = calculate_ci_and_cr(ppt_matrix, ri_table)\n",
    "people_ci, people_cr = calculate_ci_and_cr(people_matrix, ri_table)\n",
    "process_ci, process_cr = calculate_ci_and_cr(process_matrix, ri_table)\n",
    "technology_ci, technology_cr = calculate_ci_and_cr(technology_matrix, ri_table)\n",
    "\n",
    "# Print results\n",
    "print(f\"PPT CI: {ppt_ci:.4f}, CR: {ppt_cr:.4f}\")\n",
    "print(f\"People CI: {people_ci:.4f}, CR: {people_cr:.4f}\")\n",
    "print(f\"Process CI: {process_ci:.4f}, CR: {process_cr:.4f}\")\n",
    "print(f\"Technology CI: {technology_ci:.4f}, CR: {technology_cr:.4f}\")\n"
   ]
  }
 ],
 "metadata": {
  "kernelspec": {
   "display_name": "Python 3",
   "language": "python",
   "name": "python3"
  },
  "language_info": {
   "codemirror_mode": {
    "name": "ipython",
    "version": 3
   },
   "file_extension": ".py",
   "mimetype": "text/x-python",
   "name": "python",
   "nbconvert_exporter": "python",
   "pygments_lexer": "ipython3",
   "version": "3.11.0"
  }
 },
 "nbformat": 4,
 "nbformat_minor": 2
}
