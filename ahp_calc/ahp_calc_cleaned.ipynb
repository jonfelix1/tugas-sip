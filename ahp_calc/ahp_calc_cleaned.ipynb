{
 "cells": [
  {
   "cell_type": "markdown",
   "metadata": {},
   "source": [
    "# Cleaned AHP Calculation"
   ]
  },
  {
   "cell_type": "code",
   "execution_count": 10,
   "metadata": {},
   "outputs": [],
   "source": [
    "import pandas as pd\n",
    "import numpy as np\n",
    "from scipy.linalg import eig\n",
    "\n",
    "# Random Index (RI) values based on matrix size (1 to 10 criteria)\n",
    "RI = {1: 0.0, 2: 0.0, 3: 0.58, 4: 0.90, 5: 1.12, 6: 1.24, 7: 1.32, 8: 1.41, 9: 1.45, 10: 1.49}\n",
    "\n",
    "default_ci_threshold = 0.3\n",
    "\n",
    "# Response scale AHP (saaty scale)\n",
    "response_scale_ahp = {\n",
    "    \"A mutlak lebih penting dibandingkan B\": 9,\n",
    "    \"A sangat lebih penting dibandingkan B\": 7,\n",
    "    \"A cukup lebih penting dibandingkan B\": 5,\n",
    "    \"A sedikit lebih penting dibandingkan B\": 3,\n",
    "    \"Sama pentingnya\": 1,\n",
    "    \"B sedikit lebih penting dibandingkan A\": 1/3,\n",
    "    \"B cukup lebih penting dibandingkan A\": 1/5,\n",
    "    \"B sangat lebih penting dibandingkan A\": 1/7,\n",
    "    \"B mutlak lebih penting dibandingkan A\": 1/9\n",
    "}\n",
    "\n",
    "balanced_scale = lambda x: (9 + x)/(11-x)\n",
    "\n",
    "\n",
    "# Response scale balanced\n",
    "response_scale_balanced = {\n",
    "    \"A mutlak lebih penting dibandingkan B\": balanced_scale(9),\n",
    "    \"A sangat lebih penting dibandingkan B\": balanced_scale(7),\n",
    "    \"A cukup lebih penting dibandingkan B\": balanced_scale(5),\n",
    "    \"A sedikit lebih penting dibandingkan B\": balanced_scale(3),\n",
    "    \"Sama pentingnya\": 1.0,\n",
    "    \"B sedikit lebih penting dibandingkan A\": 1/balanced_scale(3),\n",
    "    \"B cukup lebih penting dibandingkan A\": 1/balanced_scale(5),\n",
    "    \"B sangat lebih penting dibandingkan A\": 1/balanced_scale(7),\n",
    "    \"B mutlak lebih penting dibandingkan A\": 1/balanced_scale(9),\n",
    "}\n",
    "\n",
    "# Criteria definitions\n",
    "ppt_criteria = [\"People\", \"Process\", \"Technology\"]\n",
    "ppt_criteria_pairs = [\n",
    "    \"3. A: People. B: Process\",\n",
    "    \"4. A: People. B: Technology\",\n",
    "    \"5. A: Process. B: Technology\"\n",
    "]\n",
    "\n",
    "people_criteria = [\n",
    "    \"Dukungan manajemen senior\",\n",
    "    \"Alokasi sumber daya\",\n",
    "    \"Kompatibilitas Teknologi\",\n",
    "    \"Perubahan manajemen dan Adaptasi User\"\n",
    "]\n",
    "\n",
    "people_criteria_pairs = [\n",
    "    f\"7. A: {people_criteria[0]}. B: {people_criteria[1]}\",\n",
    "    f\"8. A: {people_criteria[0]}. B: {people_criteria[2]}\",\n",
    "    f\"9. A: {people_criteria[0]}. B: {people_criteria[3]}\",\n",
    "    f\"10. A: {people_criteria[1]}. B: {people_criteria[2]}\",\n",
    "    f\"11. A: {people_criteria[1]}. B: {people_criteria[3]}\",\n",
    "    f\"12. A: {people_criteria[2]}. B: {people_criteria[3]}\"\n",
    "]\n",
    "\n",
    "process_criteria = [\n",
    "    \"Rekayasa ulang proses bisnis\",\n",
    "    \"Kebutuhan sistem yang jelas\",\n",
    "    \"Standar operasional yang jelas\",\n",
    "    \"Mitigasi dan manajemen risiko\"\n",
    "]\n",
    "\n",
    "process_criteria_pairs = [\n",
    "    f\"14. A: {process_criteria[0]}. B: {process_criteria[1]}\",\n",
    "    f\"15. A: {process_criteria[0]}. B: {process_criteria[2]}\",\n",
    "    f\"16. A: {process_criteria[0]}. B: {process_criteria[3]}\",\n",
    "    f\"17. A: {process_criteria[1]}. B: {process_criteria[2]}\",\n",
    "    f\"18. A: {process_criteria[1]}. B: {process_criteria[3]}\",\n",
    "    f\"19. A: {process_criteria[2]}. B: {process_criteria[3]}\"\n",
    "]\n",
    "\n",
    "technology_criteria = [\n",
    "    \"Keamanan yang kuat\",\n",
    "    \"Skalabilitas infrastruktur IT\",\n",
    "    \"Integrasi Sistem\",\n",
    "    \"Performa dan kecepatan sistem\"\n",
    "]\n",
    "\n",
    "technology_criteria_pairs = [\n",
    "    f\"21. A: {technology_criteria[0]}. B: {technology_criteria[1]}\",\n",
    "    f\"22. A: {technology_criteria[0]}. B: {technology_criteria[2]}\",\n",
    "    f\"23. A: {technology_criteria[0]}. B: {technology_criteria[3]}\",\n",
    "    f\"24. A: {technology_criteria[1]}. B: {technology_criteria[2]}\",\n",
    "    f\"25. A: {technology_criteria[1]}. B: {technology_criteria[3]}\",\n",
    "    f\"26. A: {technology_criteria[2]}. B: {technology_criteria[3]}\"\n",
    "]\n",
    "\n",
    "# Function to build pairwise comparison matrix\n",
    "def build_matrix(row, pairs, criteria, response_scale):\n",
    "    n = len(criteria)\n",
    "    matrix = np.ones((n, n))  # Start with identity matrix\n",
    "    for i, crit_a in enumerate(criteria):\n",
    "        for j, crit_b in enumerate(criteria):\n",
    "            if i < j:\n",
    "                pairwise_key = next(\n",
    "                    (pair for pair in pairs if f\"A: {crit_a}. B: {crit_b}\" in pair), None\n",
    "                )\n",
    "                if pairwise_key and pairwise_key in row and row[pairwise_key] in response_scale:\n",
    "                    weight = response_scale[row[pairwise_key]]\n",
    "                    matrix[i, j] = weight\n",
    "                    matrix[j, i] = 1 / weight\n",
    "    return matrix\n",
    "\n",
    "# Calculate Consistency Index (CI)\n",
    "def calculate_ci(matrix):\n",
    "    n = matrix.shape[0]\n",
    "    eigvals, _ = eig(matrix)\n",
    "    lambda_max = max(eigvals.real)\n",
    "    ci = (lambda_max - n) / (n - 1)\n",
    "    return ci\n",
    "\n",
    "# Clean data based on CI threshold\n",
    "def clean_data(data, pairs, criteria, response_scale=response_scale_ahp, threshold=default_ci_threshold):\n",
    "    valid_responses = []\n",
    "    for _, row in data.iterrows():\n",
    "        matrix = build_matrix(row, pairs, criteria, response_scale)\n",
    "        ci = calculate_ci(matrix)\n",
    "        cr = ci / RI[len(criteria)] if len(criteria) in RI else float('inf')\n",
    "        if cr <= threshold:\n",
    "            valid_responses.append(row)\n",
    "        else:\n",
    "            print(f\"Response {row['Response ID']} from {row['1. Profil Responden']} has a CR of {cr}\")\n",
    "    return pd.DataFrame(valid_responses)\n",
    "\n",
    "# Calculate priority vector\n",
    "def calculate_priority_vector(matrix):\n",
    "    normalized_matrix = matrix / matrix.sum(axis=0)\n",
    "    priority_vector = normalized_matrix.mean(axis=1)\n",
    "    return priority_vector"
   ]
  },
  {
   "cell_type": "code",
   "execution_count": 11,
   "metadata": {},
   "outputs": [],
   "source": [
    "# Main Script\n",
    "file_path = \"~/Downloads/export-core_banking_system_csf_survey-2024-11-18-07-48-33.csv\"\n",
    "data = pd.read_csv(file_path)\n"
   ]
  },
  {
   "cell_type": "markdown",
   "metadata": {},
   "source": [
    "## Saaty Scale"
   ]
  },
  {
   "cell_type": "code",
   "execution_count": 12,
   "metadata": {},
   "outputs": [
    {
     "name": "stdout",
     "output_type": "stream",
     "text": [
      "Response cm3hfyqid03lcsrafxk1xa9pf from Eggy, Pratama, PT BPR Tata Asia has a CR of 4.268157323611629\n",
      "Response cm3h419ak0bdh5yzibe8h3xs7 from Ariya, Permana, PT BPR Sukma Kemang Agung has a CR of 1.3592905335529903\n",
      "Response cm3gx51za0bogrpmtu5pxmob4 from Rizal, ., PD BPR Bank Daerah Kabupaten Kediri has a CR of 1.3592905335529903\n",
      "Response cm3g0nhfp048kifbtkhr9scjw from Yadi, Mulyadi, PT BPR Mitra Parahyangan has a CR of 1.3592905335529872\n",
      "Response cm3fzzpmu00d4okdcq4doni46 from Krisna, -, PT BPR Mitra Parahyangan has a CR of 1.3592905335529903\n",
      "ppt_cleaned_data length 5\n"
     ]
    }
   ],
   "source": [
    "# Clean and process PPT level\n",
    "ppt_cleaned_data = clean_data(data, ppt_criteria_pairs, ppt_criteria)\n",
    "print(\"ppt_cleaned_data length\", len(ppt_cleaned_data))"
   ]
  },
  {
   "cell_type": "code",
   "execution_count": 13,
   "metadata": {},
   "outputs": [
    {
     "name": "stdout",
     "output_type": "stream",
     "text": [
      "Response cm3gx51za0bogrpmtu5pxmob4 from Rizal, ., PD BPR Bank Daerah Kabupaten Kediri has a CR of 0.41559933791283094\n",
      "Response cm3g0nhfp048kifbtkhr9scjw from Yadi, Mulyadi, PT BPR Mitra Parahyangan has a CR of 0.41559933791283454\n",
      "people_cleaned_data length 8\n"
     ]
    }
   ],
   "source": [
    "people_cleaned_data = clean_data(data, people_criteria_pairs, people_criteria)\n",
    "print(\"people_cleaned_data length\", len(people_cleaned_data))"
   ]
  },
  {
   "cell_type": "code",
   "execution_count": 14,
   "metadata": {},
   "outputs": [
    {
     "name": "stdout",
     "output_type": "stream",
     "text": [
      "Response cm3g0nhfp048kifbtkhr9scjw from Yadi, Mulyadi, PT BPR Mitra Parahyangan has a CR of 0.41559933791283654\n",
      "process_cleaned_data length 9\n"
     ]
    }
   ],
   "source": [
    "process_cleaned_data = clean_data(data, process_criteria_pairs, process_criteria)\n",
    "print(\"process_cleaned_data length\", len(process_cleaned_data))\n"
   ]
  },
  {
   "cell_type": "code",
   "execution_count": 15,
   "metadata": {},
   "outputs": [
    {
     "name": "stdout",
     "output_type": "stream",
     "text": [
      "Response cm3h419ak0bdh5yzibe8h3xs7 from Ariya, Permana, PT BPR Sukma Kemang Agung has a CR of 0.41559933791283526\n",
      "Response cm3gx51za0bogrpmtu5pxmob4 from Rizal, ., PD BPR Bank Daerah Kabupaten Kediri has a CR of 0.41559933791283526\n",
      "technology_cleaned_data length 8\n"
     ]
    }
   ],
   "source": [
    "technology_cleaned_data = clean_data(data, technology_criteria_pairs, technology_criteria)\n",
    "print(\"technology_cleaned_data length\", len(technology_cleaned_data))"
   ]
  },
  {
   "cell_type": "code",
   "execution_count": 16,
   "metadata": {},
   "outputs": [
    {
     "name": "stdout",
     "output_type": "stream",
     "text": [
      "PPT Priority Vectors:\n",
      "cleaned sample size 5\n",
      "People: 0.7476\n",
      "Process: 0.1470\n",
      "Technology: 0.1055\n",
      "\n",
      "People Priority Vectors:\n",
      "cleaned sample size 8\n",
      "Dukungan manajemen senior: 0.2461\n",
      "Alokasi sumber daya: 0.2539\n",
      "Kompatibilitas Teknologi: 0.2201\n",
      "Perubahan manajemen dan Adaptasi User: 0.2799\n",
      "\n",
      "Process Priority Vectors:\n",
      "cleaned sample size 9\n",
      "Rekayasa ulang proses bisnis: 0.2429\n",
      "Kebutuhan sistem yang jelas: 0.2606\n",
      "Standar operasional yang jelas: 0.2405\n",
      "Mitigasi dan manajemen risiko: 0.2560\n",
      "\n",
      "Technology Priority Vectors:\n",
      "cleaned sample size 8\n",
      "Keamanan yang kuat: 0.1646\n",
      "Skalabilitas infrastruktur IT: 0.2865\n",
      "Integrasi Sistem: 0.2605\n",
      "Performa dan kecepatan sistem: 0.2884\n"
     ]
    }
   ],
   "source": [
    "ppt_priority_vectors = [\n",
    "    calculate_priority_vector(build_matrix(row, ppt_criteria_pairs, ppt_criteria,response_scale_ahp))\n",
    "    for _, row in ppt_cleaned_data.iterrows()\n",
    "]\n",
    "\n",
    "# Example: Calculate priority for People sub-criteria\n",
    "people_priority_vectors = [\n",
    "    calculate_priority_vector(build_matrix(row, people_criteria_pairs, people_criteria,response_scale_ahp))\n",
    "    for _, row in people_cleaned_data.iterrows()\n",
    "]\n",
    "\n",
    "# Calculate priority vectors for Process and Technology sub-criteria\n",
    "process_priority_vectors = [\n",
    "    calculate_priority_vector(build_matrix(row, process_criteria_pairs, process_criteria,response_scale_ahp))\n",
    "    for _, row in process_cleaned_data.iterrows()\n",
    "]\n",
    "\n",
    "technology_priority_vectors = [\n",
    "    calculate_priority_vector(build_matrix(row, technology_criteria_pairs, technology_criteria,response_scale_ahp))\n",
    "    for _, row in technology_cleaned_data.iterrows()\n",
    "]\n",
    "\n",
    "# Output results for all levels with formatted criteria and scores\n",
    "print(\"PPT Priority Vectors:\")\n",
    "print(\"cleaned sample size\", len(ppt_cleaned_data))\n",
    "ppt_priority_mean = np.mean(ppt_priority_vectors, axis=0)\n",
    "for criteria, score in zip(ppt_criteria, ppt_priority_mean):\n",
    "    print(f\"{criteria}: {score:.4f}\")\n",
    "\n",
    "print(\"\\nPeople Priority Vectors:\")\n",
    "print(\"cleaned sample size\", len(people_cleaned_data))\n",
    "people_priority_mean = np.mean(people_priority_vectors, axis=0)\n",
    "for criteria, score in zip(people_criteria, people_priority_mean):\n",
    "    print(f\"{criteria}: {score:.4f}\")\n",
    "\n",
    "print(\"\\nProcess Priority Vectors:\")\n",
    "print(\"cleaned sample size\", len(process_cleaned_data))\n",
    "process_priority_mean = np.mean(process_priority_vectors, axis=0)\n",
    "for criteria, score in zip(process_criteria, process_priority_mean):\n",
    "    print(f\"{criteria}: {score:.4f}\")\n",
    "\n",
    "print(\"\\nTechnology Priority Vectors:\")\n",
    "print(\"cleaned sample size\", len(technology_cleaned_data))\n",
    "technology_priority_mean = np.mean(technology_priority_vectors, axis=0)\n",
    "for criteria, score in zip(technology_criteria, technology_priority_mean):\n",
    "    print(f\"{criteria}: {score:.4f}\")"
   ]
  },
  {
   "cell_type": "markdown",
   "metadata": {},
   "source": [
    "## Balanced Scale"
   ]
  },
  {
   "cell_type": "code",
   "execution_count": 22,
   "metadata": {},
   "outputs": [],
   "source": [
    "balanced_scale_threshold = 0.2"
   ]
  },
  {
   "cell_type": "code",
   "execution_count": 23,
   "metadata": {},
   "outputs": [
    {
     "name": "stdout",
     "output_type": "stream",
     "text": [
      "Response cm3hfyqid03lcsrafxk1xa9pf from Eggy, Pratama, PT BPR Tata Asia has a CR of 2.2481506121431374\n",
      "Response cm3h419ak0bdh5yzibe8h3xs7 from Ariya, Permana, PT BPR Sukma Kemang Agung has a CR of 0.5003537284614606\n",
      "Response cm3gx51za0bogrpmtu5pxmob4 from Rizal, ., PD BPR Bank Daerah Kabupaten Kediri has a CR of 0.5003537284614606\n",
      "Response cm3g0nhfp048kifbtkhr9scjw from Yadi, Mulyadi, PT BPR Mitra Parahyangan has a CR of 0.5003537284614583\n",
      "Response cm3fzzpmu00d4okdcq4doni46 from Krisna, -, PT BPR Mitra Parahyangan has a CR of 0.5003537284614606\n",
      "ppt_cleaned_data length 5\n"
     ]
    }
   ],
   "source": [
    "# Clean and process PPT level\n",
    "ppt_cleaned_data = clean_data(data, ppt_criteria_pairs, ppt_criteria, response_scale_balanced, balanced_scale_threshold)\n",
    "print(\"ppt_cleaned_data length\", len(ppt_cleaned_data))"
   ]
  },
  {
   "cell_type": "code",
   "execution_count": 24,
   "metadata": {},
   "outputs": [
    {
     "name": "stdout",
     "output_type": "stream",
     "text": [
      "people_cleaned_data length 10\n"
     ]
    }
   ],
   "source": [
    "people_cleaned_data = clean_data(data, people_criteria_pairs, people_criteria, response_scale_balanced, balanced_scale_threshold)\n",
    "print(\"people_cleaned_data length\", len(people_cleaned_data))"
   ]
  },
  {
   "cell_type": "code",
   "execution_count": 25,
   "metadata": {},
   "outputs": [
    {
     "name": "stdout",
     "output_type": "stream",
     "text": [
      "process_cleaned_data length 10\n"
     ]
    }
   ],
   "source": [
    "process_cleaned_data = clean_data(data, process_criteria_pairs, process_criteria, response_scale_balanced, balanced_scale_threshold)\n",
    "print(\"process_cleaned_data length\", len(process_cleaned_data))\n"
   ]
  },
  {
   "cell_type": "code",
   "execution_count": 26,
   "metadata": {},
   "outputs": [
    {
     "name": "stdout",
     "output_type": "stream",
     "text": [
      "technology_cleaned_data length 10\n"
     ]
    }
   ],
   "source": [
    "technology_cleaned_data = clean_data(data, technology_criteria_pairs, technology_criteria, response_scale_balanced, balanced_scale_threshold)\n",
    "print(\"technology_cleaned_data length\", len(technology_cleaned_data))"
   ]
  },
  {
   "cell_type": "code",
   "execution_count": 27,
   "metadata": {},
   "outputs": [
    {
     "name": "stdout",
     "output_type": "stream",
     "text": [
      "PPT Priority Vectors:\n",
      "cleaned sample size 5\n",
      "People: 0.6356\n",
      "Process: 0.1901\n",
      "Technology: 0.1743\n",
      "\n",
      "People Priority Vectors:\n",
      "cleaned sample size 10\n",
      "Dukungan manajemen senior: 0.2459\n",
      "Alokasi sumber daya: 0.2571\n",
      "Kompatibilitas Teknologi: 0.2287\n",
      "Perubahan manajemen dan Adaptasi User: 0.2683\n",
      "\n",
      "Process Priority Vectors:\n",
      "cleaned sample size 10\n",
      "Rekayasa ulang proses bisnis: 0.2432\n",
      "Kebutuhan sistem yang jelas: 0.2673\n",
      "Standar operasional yang jelas: 0.2404\n",
      "Mitigasi dan manajemen risiko: 0.2491\n",
      "\n",
      "Technology Priority Vectors:\n",
      "cleaned sample size 10\n",
      "Keamanan yang kuat: 0.2006\n",
      "Skalabilitas infrastruktur IT: 0.2673\n",
      "Integrasi Sistem: 0.2537\n",
      "Performa dan kecepatan sistem: 0.2784\n"
     ]
    }
   ],
   "source": [
    "ppt_priority_vectors = [\n",
    "    calculate_priority_vector(build_matrix(row, ppt_criteria_pairs, ppt_criteria,response_scale_balanced))\n",
    "    for _, row in ppt_cleaned_data.iterrows()\n",
    "]\n",
    "\n",
    "# Example: Calculate priority for People sub-criteria\n",
    "people_priority_vectors = [\n",
    "    calculate_priority_vector(build_matrix(row, people_criteria_pairs, people_criteria,response_scale_balanced))\n",
    "    for _, row in people_cleaned_data.iterrows()\n",
    "]\n",
    "\n",
    "# Calculate priority vectors for Process and Technology sub-criteria\n",
    "process_priority_vectors = [\n",
    "    calculate_priority_vector(build_matrix(row, process_criteria_pairs, process_criteria,response_scale_balanced))\n",
    "    for _, row in process_cleaned_data.iterrows()\n",
    "]\n",
    "\n",
    "technology_priority_vectors = [\n",
    "    calculate_priority_vector(build_matrix(row, technology_criteria_pairs, technology_criteria,response_scale_balanced))\n",
    "    for _, row in technology_cleaned_data.iterrows()\n",
    "]\n",
    "\n",
    "# Output results for all levels with formatted criteria and scores\n",
    "print(\"PPT Priority Vectors:\")\n",
    "print(\"cleaned sample size\", len(ppt_cleaned_data))\n",
    "ppt_priority_mean = np.mean(ppt_priority_vectors, axis=0)\n",
    "for criteria, score in zip(ppt_criteria, ppt_priority_mean):\n",
    "    print(f\"{criteria}: {score:.4f}\")\n",
    "\n",
    "print(\"\\nPeople Priority Vectors:\")\n",
    "print(\"cleaned sample size\", len(people_cleaned_data))\n",
    "people_priority_mean = np.mean(people_priority_vectors, axis=0)\n",
    "for criteria, score in zip(people_criteria, people_priority_mean):\n",
    "    print(f\"{criteria}: {score:.4f}\")\n",
    "\n",
    "print(\"\\nProcess Priority Vectors:\")\n",
    "print(\"cleaned sample size\", len(process_cleaned_data))\n",
    "process_priority_mean = np.mean(process_priority_vectors, axis=0)\n",
    "for criteria, score in zip(process_criteria, process_priority_mean):\n",
    "    print(f\"{criteria}: {score:.4f}\")\n",
    "\n",
    "print(\"\\nTechnology Priority Vectors:\")\n",
    "print(\"cleaned sample size\", len(technology_cleaned_data))\n",
    "technology_priority_mean = np.mean(technology_priority_vectors, axis=0)\n",
    "for criteria, score in zip(technology_criteria, technology_priority_mean):\n",
    "    print(f\"{criteria}: {score:.4f}\")"
   ]
  }
 ],
 "metadata": {
  "kernelspec": {
   "display_name": "Python 3",
   "language": "python",
   "name": "python3"
  },
  "language_info": {
   "codemirror_mode": {
    "name": "ipython",
    "version": 3
   },
   "file_extension": ".py",
   "mimetype": "text/x-python",
   "name": "python",
   "nbconvert_exporter": "python",
   "pygments_lexer": "ipython3",
   "version": "3.11.0"
  }
 },
 "nbformat": 4,
 "nbformat_minor": 2
}
